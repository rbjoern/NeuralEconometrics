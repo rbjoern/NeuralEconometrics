{
 "cells": [
  {
   "cell_type": "markdown",
   "metadata": {},
   "source": [
    "# Monte Carlo Simulation - Parameter series\n",
    "\n",
    "This file implements a simulation for a series of parameter values, for various specified DGP's. \n",
    "\n",
    "A number of dependencies are necessary - particularly the accompanying function files. "
   ]
  },
  {
   "cell_type": "code",
   "execution_count": 1,
   "metadata": {
    "scrolled": true
   },
   "outputs": [
    {
     "ename": "ModuleNotFoundError",
     "evalue": "No module named 'monte_carlo_simulation'",
     "output_type": "error",
     "traceback": [
      "\u001b[1;31m---------------------------------------------------------------------------\u001b[0m",
      "\u001b[1;31mModuleNotFoundError\u001b[0m                       Traceback (most recent call last)",
      "\u001b[1;32m<ipython-input-1-ecba21d5712b>\u001b[0m in \u001b[0;36m<module>\u001b[1;34m()\u001b[0m\n\u001b[0;32m     14\u001b[0m \u001b[0msys\u001b[0m\u001b[1;33m.\u001b[0m\u001b[0mpath\u001b[0m\u001b[1;33m.\u001b[0m\u001b[0mappend\u001b[0m\u001b[1;33m(\u001b[0m\u001b[1;34mr'F:\\Documents\\TheEnd\\Code\\Functions'\u001b[0m\u001b[1;33m)\u001b[0m\u001b[1;33m\u001b[0m\u001b[0m\n\u001b[0;32m     15\u001b[0m \u001b[0msys\u001b[0m\u001b[1;33m.\u001b[0m\u001b[0mpath\u001b[0m\u001b[1;33m.\u001b[0m\u001b[0mappend\u001b[0m\u001b[1;33m(\u001b[0m\u001b[1;34mr'C:\\Users\\rbjoe\\Dropbox\\Kugejl\\10.semester\\TheEnd\\Code\\Functions'\u001b[0m\u001b[1;33m)\u001b[0m\u001b[1;33m\u001b[0m\u001b[0m\n\u001b[1;32m---> 16\u001b[1;33m \u001b[1;32mimport\u001b[0m \u001b[0mmonte_carlo_simulation\u001b[0m \u001b[1;32mas\u001b[0m \u001b[0mmc\u001b[0m\u001b[1;33m\u001b[0m\u001b[0m\n\u001b[0m\u001b[0;32m     17\u001b[0m \u001b[1;32mimport\u001b[0m \u001b[0mdgp_stuff\u001b[0m \u001b[1;32mas\u001b[0m \u001b[0mdgp\u001b[0m\u001b[1;33m\u001b[0m\u001b[0m\n\u001b[0;32m     18\u001b[0m \u001b[1;32mimport\u001b[0m \u001b[0mneural_net\u001b[0m \u001b[1;32mas\u001b[0m \u001b[0mnn\u001b[0m\u001b[1;33m\u001b[0m\u001b[0m\n",
      "\u001b[1;31mModuleNotFoundError\u001b[0m: No module named 'monte_carlo_simulation'"
     ]
    }
   ],
   "source": [
    "# IMPORT DEPENDENCIES\n",
    "import numpy as np\n",
    "import pandas as pd\n",
    "import os \n",
    "import pickle\n",
    "from datetime import datetime \n",
    "import matplotlib.pyplot as plt\n",
    "import seaborn as sns\n",
    "sns.set_style('whitegrid')\n",
    "import importlib\n",
    "\n",
    "#Import own files \n",
    "import sys \n",
    "sys.path.append(r'F:\\Documents\\TheEnd\\Code\\Functions')\n",
    "sys.path.append(r'C:\\Users\\rbjoe\\Dropbox\\Kugejl\\10.semester\\TheEnd\\Code\\Functions')\n",
    "import monte_carlo_simulation as mc\n",
    "import dgp_stuff as dgp\n",
    "import neural_net as nn\n",
    "import estimators as est\n",
    "import summaries as smr\n",
    "import figurez as figz\n",
    "import tablez as tblz\n",
    "\n",
    "\n",
    "###############################################################################\n",
    "# Load parameters (defined in simulation file)\n",
    "parameters, estimators, g_functions, changing_parameter = \\\n",
    "        mc.MC_load_pars('6_2_v3_reg_prod_2018_07_21') \n",
    "\n",
    "\n",
    "#changing_parameter['parameter_space'] = [n for n in range(int(2.5*10**2), 10**3+1, int(2.5*10**2))] +\\\n",
    "#                                        [n for n in range(int(2.5*10**3), 10**4+1, int(2.5*10**3))] +\\\n",
    "#                                        [n for n in range(int(2.5*10**4), 10**5, int(2.5*10**4))] #+\\\n",
    "                                        #[n for n in range(int(2.5*10**5), 10**6+1, int(2.5*10**5))]\n",
    "parameters"
   ]
  },
  {
   "cell_type": "code",
   "execution_count": null,
   "metadata": {},
   "outputs": [],
   "source": [
    "subset1 = list(g_functions.keys())[0:2]\n",
    "models1 = ['DGP']+list(estimators.keys()) \n",
    "#models1 = ['DGP', 'NN (I)', '2SNN'] #['DGP']+list(set(estimators.keys())-set(['2SLS']))\n",
    "subset2 = list(g_functions.keys())[2:4]\n",
    "#models2 = ['DGP']+list(estimators.keys())\n",
    "models2 = models1\n",
    "comp_kws = {'coefficient':0}\n",
    "mrgeff_file = 'res_mrgeffs'\n",
    "figtitle = '6_2_v3_reg_'"
   ]
  },
  {
   "cell_type": "markdown",
   "metadata": {},
   "source": [
    "### Mean ME (bias) for marginal effects"
   ]
  },
  {
   "cell_type": "code",
   "execution_count": null,
   "metadata": {},
   "outputs": [],
   "source": [
    "#Calculate MME for marginal effects \n",
    "importlib.reload(smr)\n",
    "res_me = smr.comp_wrapper_parseries_g(smr.comp_me, mrgeff_file, \n",
    "                                       dgp_series = mrgeff_file,\n",
    "                                       g_functions=g_functions, \n",
    "                                       comp_kws = comp_kws, #Look at one beta.\n",
    "                                       filename =  parameters['filename'], \n",
    "                                       parameter_space = changing_parameter['parameter_space'])"
   ]
  },
  {
   "cell_type": "code",
   "execution_count": null,
   "metadata": {},
   "outputs": [],
   "source": [
    "figz.fig_wrapper_g(g_figfunc = figz.fig_parseries, g_series = res_me, \n",
    "                   g_functions=g_functions, estimators = estimators,\n",
    "                   subset = subset1, \n",
    "                   models = models1,\n",
    "                   save_file=True, filename = figtitle+'mrg_ME_1',\n",
    "                   n_rows = 1, n_cols=2, share_y=False, xscale='log',\n",
    "                   legend = 'figure', DGP_last=True,\n",
    "                   xlabel = 'Sample size (n)', ylabel= 'Bias', \n",
    "                   #ymin = -0.025, ymax = 0.025\n",
    "                   )"
   ]
  },
  {
   "cell_type": "code",
   "execution_count": null,
   "metadata": {
    "scrolled": false
   },
   "outputs": [],
   "source": [
    "figz.fig_wrapper_g(g_figfunc = figz.fig_parseries, g_series = res_me, \n",
    "                   g_functions=g_functions, estimators = estimators,\n",
    "                   subset = subset2, \n",
    "                   models = models2,\n",
    "                   save_file=True, filename = figtitle+'mrg_ME_2',\n",
    "                   legend = 'figure', DGP_last=True,\n",
    "                   n_rows = 1, n_cols=2, share_y=False, xscale='log',\n",
    "                   xlabel = 'Sample size (n)', ylabel= 'Bias', \n",
    "                   #ymin = -0.025, ymax = 0.025\n",
    "                   )"
   ]
  },
  {
   "cell_type": "code",
   "execution_count": null,
   "metadata": {},
   "outputs": [],
   "source": [
    "figz.fig_wrapper_g(g_figfunc = figz.fig_parseries, g_series = res_me, \n",
    "                   g_functions=g_functions, estimators = estimators,\n",
    "                   subset = [list(g_functions.keys())[i] for i in [0,3]],\n",
    "                   models = models2,\n",
    "                   save_file=True, filename = figtitle+'mrg_ME_3',\n",
    "                   legend = 'figure', DGP_last=True,\n",
    "                   n_rows = 1, n_cols=2, share_y=False, xscale='log',\n",
    "                   xlabel = 'Sample size (n)', ylabel= 'Bias', \n",
    "                   #ymin = -0.025, ymax = 0.025\n",
    "                   )"
   ]
  },
  {
   "cell_type": "markdown",
   "metadata": {},
   "source": [
    "### Mean MSE for marginal effects "
   ]
  },
  {
   "cell_type": "code",
   "execution_count": null,
   "metadata": {},
   "outputs": [],
   "source": [
    "#Calculate MMSE\n",
    "res_mse = smr.comp_wrapper_parseries_g(smr.comp_mse, mrgeff_file, \n",
    "                                       dgp_series = mrgeff_file, \n",
    "                                       g_functions = g_functions,\n",
    "                                       comp_kws=comp_kws,\n",
    "                                       filename =  parameters['filename'],\n",
    "                                       parameter_space = changing_parameter['parameter_space'])\n",
    "ylabel = 'MSE'"
   ]
  },
  {
   "cell_type": "code",
   "execution_count": null,
   "metadata": {
    "scrolled": false
   },
   "outputs": [],
   "source": [
    "#Show figure \n",
    "figz.fig_wrapper_g(g_figfunc = figz.fig_parseries, g_series = res_mse, \n",
    "                   g_functions=g_functions, estimators = estimators,\n",
    "                   subset = subset1, \n",
    "                   models = models1,\n",
    "                   save_file=True, filename = figtitle+'mrg_MMSE_1',\n",
    "                   legend = 'figure', DGP_last=True,\n",
    "                   n_rows = 1, n_cols=2, share_y=False, xscale='log',\n",
    "                   #ymax = [0.15, 0.75],\n",
    "                   #ymin = [-0.01,-0.01],\n",
    "                   xlabel = 'Sample size (n)', ylabel= ylabel, \n",
    "                   )"
   ]
  },
  {
   "cell_type": "code",
   "execution_count": null,
   "metadata": {
    "scrolled": false
   },
   "outputs": [],
   "source": [
    "#Show figure \n",
    "figz.fig_wrapper_g(g_figfunc = figz.fig_parseries, g_series = res_mse, \n",
    "                   g_functions=g_functions, estimators = estimators,\n",
    "                   subset = subset2, \n",
    "                   models = models2,\n",
    "                   save_file=True, filename = figtitle+'mrg_MMSE_2',\n",
    "                   legend = 'figure', DGP_last=True,\n",
    "                   n_rows = 1, n_cols=2, share_y=False, xscale='log',\n",
    "                   xlabel = 'Sample size (n)', ylabel= ylabel, \n",
    "                   )"
   ]
  },
  {
   "cell_type": "code",
   "execution_count": null,
   "metadata": {},
   "outputs": [],
   "source": [
    "#Show figure \n",
    "figz.fig_wrapper_g(g_figfunc = figz.fig_parseries, g_series = res_mse, \n",
    "                   g_functions=g_functions, estimators = estimators,\n",
    "                   #subset = subset1, \n",
    "                   models = models1,\n",
    "                   save_file=True, filename = figtitle+'mrg_MMSE_1_double',\n",
    "                   legend = 'figure', DGP_last=True,\n",
    "                   n_rows = 2, n_cols=2, share_y=False, xscale='log',\n",
    "                   ymax = [0.15, 0.75, 30, 0.4],\n",
    "                   ymin = [-0.02]*4,\n",
    "                   xlabel2 = 'Sample size (n)', ylabel= ylabel, \n",
    "                   )"
   ]
  },
  {
   "cell_type": "markdown",
   "metadata": {},
   "source": [
    "### Mean RMSE for marginal effects"
   ]
  },
  {
   "cell_type": "code",
   "execution_count": null,
   "metadata": {
    "scrolled": true
   },
   "outputs": [],
   "source": [
    "#Calculate MRMSE\n",
    "res_rmse = smr.comp_wrapper_parseries_g(smr.comp_rmse, mrgeff_file, \n",
    "                                       dgp_series = mrgeff_file, \n",
    "                                       g_functions=g_functions,\n",
    "                                       comp_kws = comp_kws,\n",
    "                                       filename =  parameters['filename'], \n",
    "                                       parameter_space = changing_parameter['parameter_space'])\n",
    "ylabel = 'RMSE'"
   ]
  },
  {
   "cell_type": "code",
   "execution_count": null,
   "metadata": {},
   "outputs": [],
   "source": [
    "#Show figure \n",
    "figz.fig_wrapper_g(g_figfunc = figz.fig_parseries, g_series = res_rmse, \n",
    "                   g_functions=g_functions, estimators = estimators,\n",
    "                   subset = subset1, \n",
    "                   models = models1,\n",
    "                   save_file=True, filename = figtitle+'mrg_RMSE_1',\n",
    "                   legend = 'figure', DGP_last=True,\n",
    "                   n_rows = 1, n_cols=2, share_y=False, xscale='log',\n",
    "                   xlabel = 'Sample size (n)', ylabel= ylabel, \n",
    "                   )"
   ]
  },
  {
   "cell_type": "code",
   "execution_count": null,
   "metadata": {
    "scrolled": false
   },
   "outputs": [],
   "source": [
    "#Show figure \n",
    "figz.fig_wrapper_g(g_figfunc = figz.fig_parseries, g_series = res_rmse, \n",
    "                   g_functions=g_functions, estimators = estimators,\n",
    "                   subset = subset2, \n",
    "                   models = models2,\n",
    "                   save_file=True, filename = figtitle+'mrg_MRMSE_2',\n",
    "                   legend = 'figure', DGP_last=True,\n",
    "                   n_rows = 1, n_cols=2, share_y=False, xscale='log',\n",
    "                   xlabel = 'Sample size (n)', ylabel= ylabel, \n",
    "                   )"
   ]
  },
  {
   "cell_type": "markdown",
   "metadata": {},
   "source": [
    "### Double figure"
   ]
  },
  {
   "cell_type": "code",
   "execution_count": null,
   "metadata": {},
   "outputs": [],
   "source": [
    "importlib.reload(figz)\n",
    "figz.fig_wrapper_g(g_figfunc = figz.fig_parseries, \n",
    "                   g_series = res_rmse, g_series_extra = res_me, \n",
    "                   g_functions=g_functions, estimators = estimators,\n",
    "                   subset = ['Linear', 'Wiggly'], \n",
    "                   models = models2,\n",
    "                   save_file=True, filename = figtitle+'mrg_double_',\n",
    "                   n_rows = 1, n_cols=2, share_y=False, xscale='log', share_x=True,\n",
    "                   legend = 'figure', DGP_last=True,\n",
    "                   xlabel2 = 'Sample size (n)', \n",
    "                   ylabel = 'RMSE',\n",
    "                   ylabel2= 'Bias',       \n",
    "                   ymin = [-0.01, 15,-2,-1.5], \n",
    "                   ymax = [2,22,0.5,1.5,]\n",
    "                   )"
   ]
  },
  {
   "cell_type": "markdown",
   "metadata": {},
   "source": [
    "### MSE for average marginal effects \n"
   ]
  },
  {
   "cell_type": "code",
   "execution_count": null,
   "metadata": {},
   "outputs": [],
   "source": [
    "res_se_avg = smr.comp_wrapper_parseries_g(smr.comp_se_avg, mrgeff_file, \n",
    "                                       dgp_series = mrgeff_file,\n",
    "                                       g_functions=g_functions, \n",
    "                                       comp_kws = comp_kws,\n",
    "                                       filename =  parameters['filename'],\n",
    "                                       parameter_space = changing_parameter['parameter_space'])\n",
    "ylabel='SE'"
   ]
  },
  {
   "cell_type": "code",
   "execution_count": null,
   "metadata": {},
   "outputs": [],
   "source": [
    "figz.fig_wrapper_g(g_figfunc = figz.fig_parseries, g_series = res_se_avg, \n",
    "                   g_functions=g_functions, estimators = estimators,\n",
    "                   subset = subset1, \n",
    "                   models = models1,\n",
    "                   save_file=True, filename = figtitle+'mrg_avg_MSE_1',\n",
    "                   legend = 'figure', DGP_last=True,\n",
    "                   n_rows = 1, n_cols=2, share_y=False, xscale='log',\n",
    "                   xlabel = 'Sample size (n)', ylabel= ylabel, \n",
    "                   )"
   ]
  },
  {
   "cell_type": "code",
   "execution_count": null,
   "metadata": {},
   "outputs": [],
   "source": [
    "figz.fig_wrapper_g(g_figfunc = figz.fig_parseries, g_series = res_se_avg, \n",
    "                   g_functions=g_functions, estimators = estimators,\n",
    "                   subset = subset2, \n",
    "                   models = models2,\n",
    "                   save_file=True, filename = figtitle+'mrg_avg_MSE_2',\n",
    "                   legend = 'figure', DGP_last=True,\n",
    "                   n_rows = 1, n_cols=2, share_y=False, xscale='log',\n",
    "                   xlabel = 'Sample size (n)', ylabel= ylabel, \n",
    "                   )"
   ]
  },
  {
   "cell_type": "markdown",
   "metadata": {},
   "source": [
    "### MRSE for average marginal effects \n"
   ]
  },
  {
   "cell_type": "code",
   "execution_count": null,
   "metadata": {},
   "outputs": [],
   "source": [
    "res_rse_avg = smr.comp_wrapper_parseries_g(smr.comp_rse_avg, mrgeff_file, \n",
    "                                       dgp_series = mrgeff_file, \n",
    "                                       g_functions=g_functions,\n",
    "                                       comp_kws=comp_kws,\n",
    "                                       filename =  parameters['filename'],\n",
    "                                       parameter_space = changing_parameter['parameter_space'])\n"
   ]
  },
  {
   "cell_type": "code",
   "execution_count": null,
   "metadata": {},
   "outputs": [],
   "source": [
    "figz.fig_wrapper_g(g_figfunc = figz.fig_parseries, g_series = res_rse_avg, \n",
    "                   g_functions=g_functions, estimators = estimators,\n",
    "                   subset = subset1, \n",
    "                   models = models1,\n",
    "                   save_file=True, filename = figtitle+'mrg_avg_MRSE_1',\n",
    "                   legend = 'figure', DGP_last=True,\n",
    "                   n_rows = 1, n_cols=2, share_y=False, xscale='log',\n",
    "                   xlabel = 'Sample size (n)', ylabel= 'Mean RMSE for marginal effects', \n",
    "                   )"
   ]
  },
  {
   "cell_type": "code",
   "execution_count": null,
   "metadata": {
    "scrolled": true
   },
   "outputs": [],
   "source": [
    "figz.fig_wrapper_g(g_figfunc = figz.fig_parseries, g_series = res_rse_avg, \n",
    "                   g_functions=g_functions, estimators = estimators,\n",
    "                   subset = subset2, \n",
    "                   models = models2,\n",
    "                   save_file=True, filename = figtitle+'mrg_avg_MRSE_2',\n",
    "                   n_rows = 1, n_cols=2, share_y=False, xscale='log',\n",
    "                   legend = 'figure', DGP_last=True,\n",
    "                   xlabel = 'Sample size (n)', ylabel= ylabel, \n",
    "                   )"
   ]
  }
 ],
 "metadata": {
  "kernelspec": {
   "display_name": "Python 3",
   "language": "python",
   "name": "python3"
  },
  "language_info": {
   "codemirror_mode": {
    "name": "ipython",
    "version": 3
   },
   "file_extension": ".py",
   "mimetype": "text/x-python",
   "name": "python",
   "nbconvert_exporter": "python",
   "pygments_lexer": "ipython3",
   "version": "3.6.5"
  }
 },
 "nbformat": 4,
 "nbformat_minor": 2
}
